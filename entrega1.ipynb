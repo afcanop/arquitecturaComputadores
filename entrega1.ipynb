{
 "cells": [
  {
   "cell_type": "markdown",
   "metadata": {},
   "source": [
    "# Entrega semana uno - arquitectura de computadores"
   ]
  },
  {
   "cell_type": "markdown",
   "metadata": {},
   "source": [
    "\n",
    " INTEGRANTES:\n",
    "  1. JUAN GONZALEZ NARVAEZ\n",
    "  2. ANDRES FELIPE CANO PIEDRAHITA\n",
    "  3. DIANA LINEY GIL OCAMPO\n",
    "\n",
    "***"
   ]
  },
  {
   "cell_type": "markdown",
   "metadata": {},
   "source": [
    " ### problema a solucionar\n",
    "  - determinar si un número es primo o no"
   ]
  },
  {
   "cell_type": "markdown",
   "metadata": {},
   "source": [
    " ¿ Qué es un número primo ?\n",
    " : R/: Los números primos son aquellos que solo, muy importante, solo son divisibles (al dividirse entre otro da un número entero) entre ellos mismos y el 1."
   ]
  },
  {
   "cell_type": "code",
   "execution_count": 5,
   "metadata": {},
   "outputs": [
    {
     "name": "stdout",
     "output_type": "stream",
     "text": [
      "Resutaldo el 5 es un número primo\n"
     ]
    }
   ],
   "source": [
    "\"\"\" \n",
    "En esta línea se solicita al usuario ingresar un número por consola, dado que en el lenguaje python todos los valores ingresado con el comando input \n",
    "los recibe como tipo sting es necesario convertirlos a tipo número gracias a la función int\n",
    "\"\"\"\n",
    "numeroIngresado = int(input(\"¿Qué número quieres saber si es primo? \"))\n",
    "\n",
    "\"\"\" \n",
    "Se define una función para que esta evalúe si un número el cual es admitido por parámetro es primo o no\n",
    "\"\"\"\n",
    "def numeroPrimo(numero):\n",
    "\n",
    "    \"\"\"\n",
    "    se valida que el número ingresado no sea negativo  o sea el 1\n",
    "    \"\"\"\n",
    "    if(numero < 0 or numero == 1):\n",
    "        return print(\"número no es primo\")\n",
    "    else:\n",
    "        \"\"\"\n",
    "        Se crea un array desde la posición de 2 hasta el número ingresado\n",
    "        se inicia por 2, ya que es el primer número divisible\n",
    "        \"\"\"\n",
    "        for i in range(2,numero):\n",
    "            \"\"\"\n",
    "            Se usa módulo del i para determinar si es residuo de esto es 0 no es primo\n",
    "            \"\"\"\n",
    "            if (numero%i) == 0:\n",
    "                return print(\"Resutaldo el \"+str(numero)+\" es un número no es primo\")\n",
    "        \"\"\"\n",
    "        Si la iteración termina sin alguna novedad se determina que el número es primo \n",
    "        \"\"\"\n",
    "    return print(\"Resutaldo el \"+str(numero)+\" es un número primo\")\n",
    "\n",
    "\n",
    "\"\"\" \n",
    "Se hace el llamado de la función, la cual evaluara si el número ingresado por un usuario\n",
    "\"\"\"\n",
    "numeroPrimo(numeroIngresado)"
   ]
  },
  {
   "cell_type": "markdown",
   "metadata": {},
   "source": [
    "# Entrega semana dos - arquitectura de computadores"
   ]
  },
  {
   "cell_type": "markdown",
   "metadata": {},
   "source": [
    " 1. Listado de instrucciones detallando por cada una: \n",
    " \n",
    "| NOMBRE             | MNEMONICO    | DESCRIPCIÓN | EJEMPLO |\n",
    "|--------------------|--------------|---------------|--------------|\n",
    "|Load Inmmediate     |li            | La instruccion li, hace una carga a un registrador normalmente para indicar una accion al sistema mediante una llamada syscall o simplemente cargar un entero       |li $v0|\n",
    "| Branch on equal    | beq          | La instruccion beq, tiene la funcionalidad de: if(a == b)             | beq $t0 $t1         |\n",
    "| Load Word          | lw           | La instruccion lw, hace una carga de valor a un registrador           | lw t1, 0(t0)         |\n",
    "| Adittion            | add i  | add $t1, $t2, $t3             | add $t1, $t2, $t3            | add $s2, $s0, $s1  |\n",
    "|Multiply Instruction|mfhi|Dos instrucciones mueven el resultado de una multiplicación a un registro de propósito general|mfhi $t2|\n",
    "|move|move|La moveinstrucción copia un valor de un registro a otro. La liinstrucción carga un valor numérico específico en ese registro.|move $t0 $v0| \n",
    "\n",
    " 2. Definición de la cantidad de registros que se usarán y el tamaño de cada registro. \n",
    " \n",
    "| NOMBRE             | TAMAÑO EN BITES    | USO |\n",
    "|--------------------|--------------|---------------|\n",
    "| $t0            | 1   | Almacenamiento temporal de un valor en memoria  |\n",
    "| $t1            | 2   | Almacenamiento temporal de un valor en memoria  |\n",
    "| $t2            | 1   | Almacenamiento temporal de un valor en memoria  |\n",
    "| $v0            | 4   | Almacenamiento temporal de un valor en memoria  |\n",
    "| $v1            | 2   | Almacenamiento temporal de un valor en memoria  |\n",
    "| $v2            | 1   | Almacenamiento temporal de un valor en memoria  |\n",
    "\n",
    "3. Descripción breve de los modos de direccionamiento que serán posibles.\n",
    "\n",
    "\n",
    "| MODOS DE  DIRECCIONAMIENTO           | INSTRUCCIONES    | JUSTIFICACIÓN |\n",
    "|--------------------|--------------|---------------|\n",
    "| Directo a registro            | div $t0 $t1    | Operacion aritmética  |\n",
    "| Directo a registro            | beq $t0 $t1 es_primo    | Salto de linia en el codigo  |\n",
    "\n",
    "\n",
    "\n",
    "4. Traducción del programa de alto nivel (entrega 1) al lenguaje ensamblador que han\n",
    "construido, usando su propio conjunto de instrucciones.\n",
    "\n",
    " ###### Código en ensamblador\n",
    " \n",
    " ![Tux, the Linux mascot](img/codigoEmsamblador.png)\n",
    "\n",
    "5. Listado en HEXA del binario que representa el programa realizado en el punto 4 de esta entrega.\n",
    "\n",
    "| Número decimal        | Instrucción  en Binario  | HEXA |\n",
    "|--------------------|--------------|---------------|\n",
    "| 0            | 0000   | 0  |\n",
    "| 1            | 0001   | 1 |\n",
    "| 2            | 0010   | 2 |\n",
    "| 3            | 0011   | 3 |\n",
    "| 4            | 0100   | 4 |\n",
    "| 5            | 0101   | 5 |\n",
    "| 6            | 0110   | 6 |\n",
    "| 7            | 0111   | 7 |\n",
    "| 8            | 1000   | 8 |\n",
    "| 9            | 1001   | 9 |\n",
    "| 10           | 1010   | A |\n",
    "| 11           | 1011   | B |\n",
    "| 12           | 1100   | C |\n",
    "| 13           | 1101   | D |\n",
    "| 14           | 1110   | E |\n",
    "| 15           | 1111   | F |\n",
    "\n",
    "6. ALU en Logisim, que pueda ejecutar las instrucciones requeridas por el programa. \n",
    " \n",
    "  ###### inicializador\n",
    "\n",
    " ![Tux, the Linux mascot](img/punto6-3.jpeg)\n",
    " \n",
    "  ###### controlador de operaciones\n",
    " \n",
    " ![Tux, the Linux mascot](img/punto6-2.jpeg)\n",
    "\n",
    "  ###### Imagen del alu\n",
    " \n",
    " ![Tux, the Linux mascot](img/punto6-1.jpeg)\n",
    " "
   ]
  },
  {
   "cell_type": "markdown",
   "metadata": {},
   "source": [
    "# Entrega semana dos - arquitectura de computadores"
   ]
  },
  {
   "cell_type": "markdown",
   "metadata": {},
   "source": [
    " ###### realizado sobre Logisim, que incluye: Memoria de Programa, ALU, Registros, Unidad de Control, interconectados de tal forma que sea capaces de ejecutar el programa diseñado.\n",
    " \n",
    "![Tux, the Linux mascot](img/aluSemana3.png)\n",
    "\n",
    "![Tux, the Linux mascot](img/AluSemana3-2.png)\n",
    "\n",
    "PRUEBAS FUNCIONAMIENTO:\n",
    "\n",
    "Teniendo en cuenta el algoritmo diseñado para la primera entrega de este proyecto, se construyó el archivo en Logisim correspondiente al proyecto final del procesador el cual depende del archivo de CPU y del archivo ALU para su correcta ejecución, se presentan los siguientes escenarios de acuerdo con la necesidad de determinar si el numero ingresado es un numero primo o de lo contrario se indicará que no lo es:\n",
    "\n",
    "![Tux, the Linux mascot](img/numeroNoPrimo.png)\n",
    "\n",
    "![Tux, the Linux mascot](img/numeroPrimo.png)\n",
    "\n",
    "CONCLUSIONES\n",
    "\n",
    "1.Durante el desarrollo del algoritmo se destina usar el editor de texto Visual Studio en conjunto para una mejor comunicación más asertiva, entre las diferentes partes del proyecto.\n",
    "\n",
    "2.Con el ejercicio propuesto en la actividad de este escenario podemos observar que al aplicar cálculos algorítmicos se pueden identificar de manera práctica y fácil los números primos y los no primos.\n",
    "\n",
    "3.Al ejecutar o correr el código en el entorno de visual estudio, en el que se desarrolló para este ejercicio se aprecia el proceso metódico del cálculo numérico, cumpliendo con los parámetros y requerimientos exigidos en la actividad practica identificando de esta manera los numero primos y los no primos que queramos consultar o verificar.\n",
    "\n",
    "4.A través de este trabajo, se puede inferir cómo debemos analizar la forma en que recibimos pedidos de software de manera secuencial, también entender la importancia de conocer la relación entre software y hardware informático y cómo deben estar conectados entre sí. Para poder genéralos de forma adecuada y cumplir con los requisitos propuestos.\n",
    "\n",
    "5.Los microcontroladores son la parte más importante de las computadoras, ellos\n",
    "son los que envían las órdenes a los demás centros de control y comandos sin duda hay que resaltar que estos son la parte más costosa de los ordenadores actuales que día a día satisfacen las múltiples necesidades de los millones de usuarios.\n",
    "\n",
    "6.La arquitectura del computador es la estructura operacional, el diseño conceptual siendo este fundamental en un sistema ensamblador de un modelo de operaciones e implementaciones necesarias para satisfacer los requerimientos del diseño de la computadora.\n",
    "\n",
    "7.La unidad de procesamiento lógico es necesaria para cumplir con las tareas determinadas, es decir se encarga de procesar, organizar, los cálculos y todas las tareas que se requieren en el programa\n",
    "\n",
    "\n"
   ]
  }
 ],
 "metadata": {
  "kernelspec": {
   "display_name": "Python 3.10.6 64-bit",
   "language": "python",
   "name": "python3"
  },
  "language_info": {
   "codemirror_mode": {
    "name": "ipython",
    "version": 3
   },
   "file_extension": ".py",
   "mimetype": "text/x-python",
   "name": "python",
   "nbconvert_exporter": "python",
   "pygments_lexer": "ipython3",
   "version": "3.10.6"
  },
  "orig_nbformat": 4,
  "vscode": {
   "interpreter": {
    "hash": "8921ee5d76fe76326559ad9c235ed2726f7f2821ea8687e555fd3e6f1ca1dcd5"
   }
  }
 },
 "nbformat": 4,
 "nbformat_minor": 2
}
