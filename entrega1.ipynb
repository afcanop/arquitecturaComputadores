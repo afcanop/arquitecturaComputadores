{
 "cells": [
  {
   "cell_type": "markdown",
   "metadata": {},
   "source": [
    "# Entrega semana uno - arquitectura de computadores"
   ]
  },
  {
   "cell_type": "markdown",
   "metadata": {},
   "source": [
    "\n",
    "> INTEGRANTES:\n",
    ">  1. JUAN GONZALEZ NARVAEZ\n",
    ">  2. ANDRES FELIPE CANO PIEDRAHITA\n",
    ">  3. DIANA LINEY GIL OCAMPO\n",
    "\n",
    "***"
   ]
  },
  {
   "cell_type": "markdown",
   "metadata": {},
   "source": [
    "> ### problema a solucionar\n",
    ">  - determinar si un número es primo o no"
   ]
  },
  {
   "cell_type": "markdown",
   "metadata": {},
   "source": [
    "> ¿ Qué es un número primo ?\n",
    "> : R/: Los números primos son aquellos que solo, muy importante, solo son divisibles (al dividirse entre otro da un número entero) entre ellos mismos y el 1."
   ]
  },
  {
   "cell_type": "code",
   "execution_count": 5,
   "metadata": {},
   "outputs": [
    {
     "name": "stdout",
     "output_type": "stream",
     "text": [
      "Resutaldo el 5 es un número primo\n"
     ]
    }
   ],
   "source": [
    "\"\"\" \n",
    "En esta línea se solicita al usuario ingresar un número por consola, dado que en el lenguaje python todos los valores ingresado con el comando input \n",
    "los recibe como tipo sting es necesario convertirlos a tipo número gracias a la función int\n",
    "\"\"\"\n",
    "numeroIngresado = int(input(\"¿Qué número quieres saber si es primo? \"))\n",
    "\n",
    "\"\"\" \n",
    "Se define una función para que esta evalúe si un número el cual es admitido por parámetro es primo o no\n",
    "\"\"\"\n",
    "def numeroPrimo(numero):\n",
    "\n",
    "    \"\"\"\n",
    "    se valida que el número ingresado no sea negativo  o sea el 1\n",
    "    \"\"\"\n",
    "    if(numero < 0 or numero == 1):\n",
    "        return print(\"número no es primo\")\n",
    "    else:\n",
    "        \"\"\"\n",
    "        Se crea un array desde la posición de 2 hasta el número ingresado\n",
    "        se inicia por 2, ya que es el primer número divisible\n",
    "        \"\"\"\n",
    "        for i in range(2,numero):\n",
    "            \"\"\"\n",
    "            Se usa módulo del i para determinar si es residuo de esto es 0 no es primo\n",
    "            \"\"\"\n",
    "            if (numero%i) == 0:\n",
    "                return print(\"Resutaldo el \"+str(numero)+\" es un número no es primo\")\n",
    "        \"\"\"\n",
    "        Si la iteración termina sin alguna novedad se determina que el número es primo \n",
    "        \"\"\"\n",
    "    return print(\"Resutaldo el \"+str(numero)+\" es un número primo\")\n",
    "\n",
    "\n",
    "\"\"\" \n",
    "Se hace el llamado de la función, la cual evaluara si el número ingresado por un usuario\n",
    "\"\"\"\n",
    "numeroPrimo(numeroIngresado)"
   ]
  },
  {
   "cell_type": "markdown",
   "metadata": {},
   "source": [
    "# Entrega semana dos - arquitectura de computadores"
   ]
  },
  {
   "cell_type": "markdown",
   "metadata": {},
   "source": [
    "> 1. Listado de instrucciones detallando por cada una: \n",
    "> \n",
    ">| NOMBRE             | MNEMONICO    | DESCRIPCIÓN | EJEMPLO |\n",
    ">|--------------------|--------------|---------------|--------------|\n",
    ">|Load Inmmediate     |li            | La instruccion li, hace una carga a un registrador normalmente para indicar una accion al sistema mediante una llamada syscall o simplemente cargar un entero       |li $v0|\n",
    ">| Branch on equal    | beq          | La instruccion beq, tiene la funcionalidad de: if(a == b)             | beq $t0 $t1         |\n",
    ">| Load Word          | lw           | La instruccion lw, hace una carga de valor a un registrador           | lw $t1, 0($t0)         |\n",
    ">| Adittion            | add i  | add $t1, $t2, $t3             | add $t1, $t2, $t3            | add $s2, $s0, $s1  |\n",
    ">|Multiply Instruction|mfhi|Dos instrucciones mueven el resultado de una multiplicación a un registro de propósito general|mfhi $t2|\n",
    ">|move|move|La moveinstrucción copia un valor de un registro a otro. La liinstrucción carga un valor numérico específico en ese registro.|move $t0 $v0| \n",
    ">\n",
    "> 2. Definición de la cantidad de registros que se usarán y el tamaño de cada registro. \n",
    "> \n",
    ">| NOMBRE             | TAMAÑO EN BITES    | USO |\n",
    ">|--------------------|--------------|---------------|\n",
    ">| $t0            | 1   | Almacenamiento temporal de un valor en memoria  |\n",
    ">| $t1            | 2   | Almacenamiento temporal de un valor en memoria  |\n",
    ">| $t2            | 1   | Almacenamiento temporal de un valor en memoria  |\n",
    ">| $v0            | 4   | Almacenamiento temporal de un valor en memoria  |\n",
    ">| $v1            | 2   | Almacenamiento temporal de un valor en memoria  |\n",
    ">| $v2            | 1   | Almacenamiento temporal de un valor en memoria  |\n",
    ">\n",
    ">3. Descripción breve de los modos de direccionamiento que serán posibles.\n",
    ">\n",
    ">4. Traducción del programa de alto nivel (entrega 1) al lenguaje ensamblador que han\n",
    ">construido, usando su propio conjunto de instrucciones.\n",
    ">\n",
    "> Código en ensamblador\n",
    "> \n",
    "> ![Tux, the Linux mascot](codigoEmsamblador.png)\n",
    ">\n",
    ">5. Listado en HEXA del binario que representa el programa realizado en el punto 4 de esta entrega.\n",
    ">\n",
    ">| Número decimal        | Instrucción  en Binario  | HEXA |\n",
    ">|--------------------|--------------|---------------|\n",
    ">| 0            | 0000   | 0  |\n",
    ">| 1            | 0001   | 1 |\n",
    ">| 2            | 0010   | 2 |\n",
    ">| 3            | 0011   | 3 |\n",
    ">| 4            | 0100   | 4 |\n",
    ">| 5            | 0101   | 5 |\n",
    ">| 6            | 0110   | 6 |\n",
    ">| 7            | 0111   | 7 |\n",
    ">| 8            | 1000   | 8 |\n",
    ">| 9            | 1001   | 9 |\n",
    ">| 10           | 1010   | A |\n",
    ">| 11           | 1011   | B |\n",
    ">| 12           | 1100   | C |\n",
    ">| 13           | 1101   | D |\n",
    ">| 14           | 1110   | E |\n",
    ">| 15           | 1111   | F |\n",
    ">\n",
    ">6. ALU en Logisim, que pueda ejecutar las instrucciones requeridas por el programa. "
   ]
  }
 ],
 "metadata": {
  "kernelspec": {
   "display_name": "Python 3.10.6 64-bit",
   "language": "python",
   "name": "python3"
  },
  "language_info": {
   "codemirror_mode": {
    "name": "ipython",
    "version": 3
   },
   "file_extension": ".py",
   "mimetype": "text/x-python",
   "name": "python",
   "nbconvert_exporter": "python",
   "pygments_lexer": "ipython3",
   "version": "3.10.6"
  },
  "orig_nbformat": 4,
  "vscode": {
   "interpreter": {
    "hash": "8921ee5d76fe76326559ad9c235ed2726f7f2821ea8687e555fd3e6f1ca1dcd5"
   }
  }
 },
 "nbformat": 4,
 "nbformat_minor": 2
}
